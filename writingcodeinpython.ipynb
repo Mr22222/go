{
  "nbformat": 4,
  "nbformat_minor": 0,
  "metadata": {
    "colab": {
      "name": "Copy of OUR first colab notebook (colby and liam the dream stan :D)",
      "provenance": [],
      "include_colab_link": true
    },
    "kernelspec": {
      "name": "python3",
      "display_name": "Python 3"
    },
    "language_info": {
      "name": "python"
    }
  },
  "cells": [
    {
      "cell_type": "markdown",
      "metadata": {
        "id": "view-in-github",
        "colab_type": "text"
      },
      "source": [
        "<a href=\"https://colab.research.google.com/github/Mr22222/go/blob/main/writingcodeinpython.ipynb\" target=\"_parent\"><img src=\"https://colab.research.google.com/assets/colab-badge.svg\" alt=\"Open In Colab\"/></a>"
      ]
    },
    {
      "cell_type": "code",
      "metadata": {
        "colab": {
          "base_uri": "https://localhost:8080/"
        },
        "id": "AE9IHBEk19O9",
        "outputId": "658b03b2-27b6-4e08-a2f8-fdec71eb7051"
      },
      "source": [
        "import time # Gets time\n",
        "print(time.ctime()) #Prints the time"
      ],
      "execution_count": null,
      "outputs": [
        {
          "output_type": "stream",
          "name": "stdout",
          "text": [
            "Mon Oct 25 23:13:47 2021\n"
          ]
        }
      ]
    },
    {
      "cell_type": "code",
      "metadata": {
        "colab": {
          "base_uri": "https://localhost:8080/"
        },
        "id": "RPZE8po96Qb6",
        "outputId": "eacb1f53-d5f3-4054-99b2-dcc039d86820"
      },
      "source": [
        "time.sleep(5) # waits 5 seconds to fetch time (Only in this cell though, not in the above cell)\n",
        "print(time.ctime()) # after time.sleep() it runs this and prints the local time "
      ],
      "execution_count": null,
      "outputs": [
        {
          "output_type": "stream",
          "name": "stdout",
          "text": [
            "Mon Oct 25 23:14:03 2021\n"
          ]
        }
      ]
    },
    {
      "cell_type": "code",
      "metadata": {
        "id": "33EY5-lkveQV"
      },
      "source": [
        ""
      ],
      "execution_count": null,
      "outputs": []
    },
    {
      "cell_type": "markdown",
      "metadata": {
        "id": "lUXQ8-sl8CkZ"
      },
      "source": [
        "This is **bold**.\n",
        "This is *Italic*.\n",
        "This is ~strikethrough~."
      ]
    },
    {
      "cell_type": "markdown",
      "metadata": {
        "id": "L_HP_ZxH8dx8"
      },
      "source": [
        "$\\sqrt{3x-1}+{1+x}^2$"
      ]
    },
    {
      "cell_type": "markdown",
      "metadata": {
        "id": "tkKz2B4P9MN6"
      },
      "source": [
        "$e^x = \\sum_{i = 0}^\\infty \\frac{1}{i!}x^"
      ]
    }
  ]
}